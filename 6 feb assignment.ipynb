{
 "cells": [
  {
   "cell_type": "markdown",
   "id": "dad5c4b1-8ef0-4b7c-b79d-79dee26d6a44",
   "metadata": {},
   "source": [
    "# 6 feb assignment"
   ]
  },
  {
   "cell_type": "markdown",
   "id": "142b1a50-e01b-4afb-afb5-799a3ce9da5c",
   "metadata": {},
   "source": [
    "# Answer-1"
   ]
  },
  {
   "cell_type": "code",
   "execution_count": 3,
   "id": "fded8d3e-a874-45c0-9789-f934fbe8dfad",
   "metadata": {},
   "outputs": [],
   "source": [
    "def product_of_flattened_list(input_list):\n",
    "    # Flatten the list\n",
    "    def flatten(lst):\n",
    "        flat_list = []\n",
    "        for item in lst:\n",
    "            if isinstance(item, (list, tuple, set)):\n",
    "                flat_list.extend(flatten(item))\n",
    "            elif isinstance(item, dict):\n",
    "                flat_list.extend(flatten(item.values()))\n",
    "            else:\n",
    "                flat_list.append(item)\n",
    "        return flat_list\n",
    "\n",
    "    flattened_list = flatten(input_list)\n",
    "\n",
    "    # Calculate the product of all numbers in the flattened list\n",
    "    product = 1\n",
    "    for num in flattened_list:\n",
    "        if isinstance(num, (int, float)):\n",
    "            product *= num\n",
    "\n",
    "    return product\n",
    "\n"
   ]
  },
  {
   "cell_type": "code",
   "execution_count": 8,
   "id": "62ff0cd6-b5da-4546-8986-a13b6c305e95",
   "metadata": {},
   "outputs": [
    {
     "data": {
      "text/plain": [
       "0"
      ]
     },
     "execution_count": 8,
     "metadata": {},
     "output_type": "execute_result"
    }
   ],
   "source": [
    "product_of_flattened_list([1,2,3,4, [44,55,66, True],False, (34,56,78,89,34), {1,2,3,3,2,1}, {1:34, \"key2\": [55, 67, 78, 89], 4: (45,\n",
    "22, 61, 34)}, [56, 'data science'], 'Machine Learning'])\n"
   ]
  },
  {
   "cell_type": "markdown",
   "id": "5625d668-0387-4173-b66e-066f23add299",
   "metadata": {},
   "source": [
    "# Answer-2"
   ]
  },
  {
   "cell_type": "code",
   "execution_count": null,
   "id": "1bc0926f-ee3c-47fa-b75d-5bc48f54bbd7",
   "metadata": {},
   "outputs": [],
   "source": []
  }
 ],
 "metadata": {
  "kernelspec": {
   "display_name": "Python 3 (ipykernel)",
   "language": "python",
   "name": "python3"
  },
  "language_info": {
   "codemirror_mode": {
    "name": "ipython",
    "version": 3
   },
   "file_extension": ".py",
   "mimetype": "text/x-python",
   "name": "python",
   "nbconvert_exporter": "python",
   "pygments_lexer": "ipython3",
   "version": "3.10.8"
  }
 },
 "nbformat": 4,
 "nbformat_minor": 5
}
